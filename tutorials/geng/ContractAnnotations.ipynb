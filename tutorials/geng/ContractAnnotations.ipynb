{
 "cells": [
  {
   "cell_type": "code",
   "execution_count": 1,
   "metadata": {
    "collapsed": true
   },
   "outputs": [],
   "source": [
    "%load_ext autoreload\n",
    "%autoreload 2"
   ]
  },
  {
   "cell_type": "code",
   "execution_count": 27,
   "metadata": {
    "collapsed": true
   },
   "outputs": [],
   "source": [
    "\n",
    "%matplotlib inline\n",
    "import os\n",
    "\n",
    "# TO USE A DATABASE OTHER THAN SQLITE, USE THIS LINE\n",
    "# Note that this is necessary for parallel execution amongst other things...\n",
    "# os.environ['SNORKELDB'] = 'postgres:///snorkel-intro'\n",
    "\n",
    "from snorkel import SnorkelSession\n",
    "session = SnorkelSession()\n",
    "\n",
    "# Running a Sapcy corpus parser\n",
    "from snorkel.parser.spacy_parser import Spacy\n",
    "from snorkel.parser import CorpusParser\n",
    "#corpus_parser = CorpusParser() # use corenlp parser, slow but accurate for NER\n",
    "\n",
    "\n",
    "# spacy lang_model = en_core_web_md\n",
    "#en_depent_web_md\n",
    "\n",
    "corpus_parser = CorpusParser(parser=Spacy(lang='en_core_web_md')) # use spacy parser, fast but not accurate enough for NER"
   ]
  },
  {
   "cell_type": "code",
   "execution_count": 28,
   "metadata": {},
   "outputs": [
    {
     "name": "stdout",
     "output_type": "stream",
     "text": [
      "data/samples\n",
      "Clearing existing...\n",
      "Running UDF...\n",
      "parts: abs_sent_offset [0, 4, 12, 17, 21, 27, 32, 38, 46, 49, 54, 64, 67, 71, 73, 77, 84, 87, 92, 94, 97, 101, 113, 122, 126, 130, 139, 141, 143, 145, 149, 158, 161, 165, 169, 174, 179, 182, 184]\n",
      "abs_sent_offset 0\n",
      "abs_sent_offset_end 185\n",
      "parts: abs_sent_offset [186, 191, 203, 214, 224, 225, 226, 235, 236, 238, 241, 246, 250, 258, 263, 266, 270, 277, 279, 285, 292, 293, 294, 304, 305, 307, 311, 321, 326, 327, 328, 334, 335, 336, 337]\n",
      "abs_sent_offset 186\n",
      "abs_sent_offset_end 339\n",
      "parts: abs_sent_offset [339, 344, 353, 357, 362, 372, 375, 383, 388, 393, 394, 398, 400, 405, 407, 408, 412, 414, 415, 418, 422, 430, 437, 441, 442, 454, 459, 460, 462, 467, 478, 480, 482, 491, 495, 497, 500, 505, 507, 511, 517, 524, 526, 531, 532, 544, 551, 552, 554, 559, 561, 565, 567, 569, 573, 577, 579, 582, 587, 589, 592, 594, 598, 603, 606, 608, 610]\n",
      "abs_sent_offset 339\n",
      "abs_sent_offset_end 611\n",
      "parts: abs_sent_offset [611, 616, 625, 629, 634, 644, 647, 655, 660, 665, 666, 669, 672, 674, 675, 679, 681, 682, 685, 689, 697, 707, 713, 714, 726, 731, 732, 734, 738, 745, 750, 754, 756, 763, 767, 769, 772, 778, 782, 786, 791, 796, 797, 809, 816, 817, 819, 823, 834, 838, 839, 842, 844, 849, 853, 855, 858, 863, 865, 868]\n",
      "abs_sent_offset 611\n",
      "abs_sent_offset_end 869\n",
      "parts: abs_sent_offset [0, 5, 14, 18, 23, 33, 36, 44, 49, 54, 55, 60, 63, 65, 66, 70, 72, 73, 76, 80, 88, 98, 110, 111, 123, 128, 129, 131, 135, 141, 147, 153, 155, 164, 166, 174, 176, 181, 182, 183, 187, 193, 200, 202, 207, 208, 220, 227, 228, 230, 235, 244, 246, 248, 252, 256, 258, 261, 266, 267, 271, 273, 276, 278, 282, 287, 290, 292, 294]\n",
      "abs_sent_offset 0\n",
      "abs_sent_offset_end 295\n",
      "parts: abs_sent_offset [295, 299, 306, 309, 315, 318, 322, 330, 339, 345, 349, 356, 364, 371]\n",
      "abs_sent_offset 295\n",
      "abs_sent_offset_end 372\n",
      "parts: abs_sent_offset [373, 378, 381, 385, 395, 396]\n",
      "abs_sent_offset 373\n",
      "abs_sent_offset_end 398\n",
      "parts: abs_sent_offset [398, 403, 412, 416, 421, 431, 434, 442, 447, 452, 453, 456, 459, 461, 462, 466, 468, 469, 472, 476, 484, 494, 499, 500, 512, 517, 518, 520, 524, 530, 536, 542, 544, 553, 555, 563, 565, 575, 579, 584, 589, 590, 602, 609, 610, 612, 617, 626, 628, 630, 634, 638, 640, 643, 648, 649, 653, 655, 658]\n",
      "abs_sent_offset 398\n",
      "abs_sent_offset_end 659\n",
      "parts: abs_sent_offset [0, 11, 20, 24, 31, 36, 42, 47, 51, 60, 63, 68]\n",
      "abs_sent_offset 0\n",
      "abs_sent_offset_end 69\n"
     ]
    }
   ],
   "source": [
    "# Parse the document and save into the sqlite server\n",
    "# see the intro-turtorial 1\n",
    "\n",
    "# Configure a doc pre-processer\n",
    "from snorkel.parser import TextDocPreprocessor\n",
    "doc_preprocessor = TextDocPreprocessor(path = 'data/samples', encoding = \"utf-8\")\n",
    "print doc_preprocessor.path\n",
    "\n",
    "\n",
    "corpus_parser.apply(doc_preprocessor)\n",
    "\n"
   ]
  },
  {
   "cell_type": "code",
   "execution_count": 29,
   "metadata": {},
   "outputs": [
    {
     "name": "stdout",
     "output_type": "stream",
     "text": [
      "1\n",
      "2\n",
      "3\n"
     ]
    }
   ],
   "source": [
    "# Check if the document has beed loaded\n",
    "from snorkel.models import Document, Sentence\n",
    "for doc in session.query(Document).all():\n",
    "    print doc.id\n",
    "    #print doc.sentences"
   ]
  },
  {
   "cell_type": "code",
   "execution_count": 30,
   "metadata": {
    "collapsed": true
   },
   "outputs": [],
   "source": [
    "# Define Candidate Type\n",
    "from snorkel.models import candidate_subclass, Document, Candidate\n",
    "rel_contract = candidate_subclass('Contractor-Contractee', ['org1', 'org2'])\n",
    "\n",
    "# Write the candidate extractor\n",
    "from snorkel.candidates import Ngrams, CandidateExtractor\n",
    "from snorkel.matchers import SpacyOrganizationMatcher\n",
    "ngrams         = Ngrams(n_max=7)\n",
    "org_matcher = SpacyOrganizationMatcher()\n",
    "cand_extractor = CandidateExtractor(rel_contract, [ngrams, ngrams], [org_matcher, org_matcher])"
   ]
  },
  {
   "cell_type": "code",
   "execution_count": null,
   "metadata": {
    "collapsed": true
   },
   "outputs": [],
   "source": []
  },
  {
   "cell_type": "code",
   "execution_count": 31,
   "metadata": {},
   "outputs": [
    {
     "name": "stdout",
     "output_type": "stream",
     "text": [
      "4\n",
      "1\n",
      "4\n"
     ]
    }
   ],
   "source": [
    "# Split the data into train, dev and test \n",
    "from snorkel.models import Document\n",
    "\n",
    "docs = session.query(Document).order_by(Document.name).all()\n",
    "\n",
    "train_sents = set()\n",
    "dev_sents   = set()\n",
    "test_sents  = set()\n",
    "\n",
    "for i, doc in enumerate(docs):\n",
    "    for s in doc.sentences:\n",
    "        if i % 3 == 1:\n",
    "            dev_sents.add(s)\n",
    "        elif i % 3 == 2:\n",
    "            test_sents.add(s)\n",
    "        else:\n",
    "            train_sents.add(s)\n",
    "            \n",
    "print len(train_sents)\n",
    "print len(test_sents)\n",
    "print len(dev_sents)"
   ]
  },
  {
   "cell_type": "code",
   "execution_count": 32,
   "metadata": {},
   "outputs": [
    {
     "name": "stdout",
     "output_type": "stream",
     "text": [
      "Clearing existing...\n",
      "Running UDF...\n",
      "[========================================] 100%\n",
      "\n",
      "('Number of candidates:', 8)\n",
      "Clearing existing...\n",
      "Running UDF...\n",
      "[========================================] 100%\n",
      "\n",
      "('Number of candidates:', 12)\n",
      "Clearing existing...\n",
      "Running UDF...\n",
      "[========================================] 100%\n",
      "\n",
      "('Number of candidates:', 1)\n"
     ]
    }
   ],
   "source": [
    "# Apply candidate extractors on all the sentences\n",
    "# Save the candidates into the databse\n",
    "# The rel_candidates will be splitted into train, dev, test \n",
    "for i, sents in enumerate([train_sents, dev_sents, test_sents]):\n",
    "    cand_extractor.apply(sents, split=i)\n",
    "    print(\"Number of candidates:\", session.query(rel_contract).filter(rel_contract.split == i).count())\n",
    "    \n"
   ]
  },
  {
   "cell_type": "code",
   "execution_count": null,
   "metadata": {
    "collapsed": true
   },
   "outputs": [],
   "source": []
  },
  {
   "cell_type": "code",
   "execution_count": null,
   "metadata": {
    "collapsed": true
   },
   "outputs": [],
   "source": []
  },
  {
   "cell_type": "code",
   "execution_count": null,
   "metadata": {
    "collapsed": true
   },
   "outputs": [],
   "source": []
  },
  {
   "cell_type": "code",
   "execution_count": null,
   "metadata": {
    "collapsed": true
   },
   "outputs": [],
   "source": []
  },
  {
   "cell_type": "code",
   "execution_count": 33,
   "metadata": {
    "collapsed": true
   },
   "outputs": [],
   "source": [
    "# Define the labeling functions\n",
    "import re\n",
    "from snorkel.lf_helpers import (\n",
    "    get_left_tokens, get_right_tokens, get_between_tokens,\n",
    "    get_text_between, get_tagged_text,\n",
    ")\n",
    "def LF_between_and(c):\n",
    "    #print get_left_tokens(c[0], window=2)\n",
    "    if \"between\" in get_left_tokens(c[0], window=5):\n",
    "        #print get_between_tokens(c)\n",
    "        if \"and\" in get_between_tokens(c):\n",
    "            return 1\n",
    "    return 0\n",
    "\n",
    "def LF_agreement(c):\n",
    "    if \"agreement\" in get_left_tokens(c[0], window=30):\n",
    "        return 1\n",
    "    return 0\n",
    "    \n"
   ]
  },
  {
   "cell_type": "code",
   "execution_count": 34,
   "metadata": {},
   "outputs": [
    {
     "name": "stdout",
     "output_type": "stream",
     "text": [
      "('Number labeled:', 4)\n",
      "Sentence(Document b5dfde83-dde0-4235-b749-4c2aaf8abd06,3,THIS PURCHASE AND SALE AGREEMENT is entered into this  11 Feb,  2050, \n",
      "by and between Solarcity Corp. (hereinafter Buyer), 391 Foster City Blvd, Foster City, CA 94404 and The Hive Inc. (hereinafter Company), 720 University Ave #200, Palo Alto, CA 94301, USA.)\n",
      "\n",
      "Sentence(Document b5dfde83-dde0-4235-b749-4c2aaf8abd06,3,THIS PURCHASE AND SALE AGREEMENT is entered into this  11 Feb,  2050, \n",
      "by and between Solarcity Corp. (hereinafter Buyer), 391 Foster City Blvd, Foster City, CA 94404 and The Hive Inc. (hereinafter Company), 720 University Ave #200, Palo Alto, CA 94301, USA.)\n",
      "\n",
      "Sentence(Document b5dfde83-dde0-4235-b749-4c2aaf8abd06,2,THIS PURCHASE AND SALE AGREEMENT is entered into this  23rd, March,  2000, \n",
      "by and between Google Inc (hereinafter Buyer), 1545 Charleston Rd, Mountain View, CA 94043, and Cisco Systems, Inc. (hereinafter Company), 3571 N 1st St, San Jose, CA 95134, USA, and here is it. \n",
      ")\n",
      "\n",
      "Sentence(Document b5dfde83-dde0-4235-b749-4c2aaf8abd06,1,This Independent Contractor Agreement (\"Agreement\") is made and entered into by and between, Cisco System (\"Contractor\") and Microsoft Corp (“Client”).\n",
      "\n",
      ")\n",
      "\n"
     ]
    }
   ],
   "source": [
    "# Test the first labeling function: LF_between_and\n",
    "labeled = []\n",
    "for c in session.query(rel_contract).filter(rel_contract.split == 0).all():\n",
    "    if LF_between_and(c) != 0:\n",
    "        labeled.append(c)\n",
    "print(\"Number labeled:\", len(labeled))\n",
    "for i in range(len(labeled)):\n",
    "    print labeled[i].get_parent()\n",
    "    #print labeled[i].labels\n",
    "    print\n",
    "\n",
    "\n"
   ]
  },
  {
   "cell_type": "code",
   "execution_count": 35,
   "metadata": {},
   "outputs": [
    {
     "name": "stdout",
     "output_type": "stream",
     "text": [
      "('Number labeled:', 7)\n",
      "Sentence(Document b5dfde83-dde0-4235-b749-4c2aaf8abd06,3,THIS PURCHASE AND SALE AGREEMENT is entered into this  11 Feb,  2050, \n",
      "by and between Solarcity Corp. (hereinafter Buyer), 391 Foster City Blvd, Foster City, CA 94404 and The Hive Inc. (hereinafter Company), 720 University Ave #200, Palo Alto, CA 94301, USA.)\n",
      "Contractor-Contractee(Span(\"Solarcity Corp. (\", sentence=7, chars=[86,102], words=[20,22]), Span(\"Foster City Blvd\", sentence=7, chars=[127,142], words=[28,30]))\n",
      "\n",
      "Sentence(Document b5dfde83-dde0-4235-b749-4c2aaf8abd06,3,THIS PURCHASE AND SALE AGREEMENT is entered into this  11 Feb,  2050, \n",
      "by and between Solarcity Corp. (hereinafter Buyer), 391 Foster City Blvd, Foster City, CA 94404 and The Hive Inc. (hereinafter Company), 720 University Ave #200, Palo Alto, CA 94301, USA.)\n",
      "Contractor-Contractee(Span(\"Solarcity Corp. (\", sentence=7, chars=[86,102], words=[20,22]), Span(\"University Ave\", sentence=7, chars=[212,225], words=[47,48]))\n",
      "\n",
      "Sentence(Document b5dfde83-dde0-4235-b749-4c2aaf8abd06,3,THIS PURCHASE AND SALE AGREEMENT is entered into this  11 Feb,  2050, \n",
      "by and between Solarcity Corp. (hereinafter Buyer), 391 Foster City Blvd, Foster City, CA 94404 and The Hive Inc. (hereinafter Company), 720 University Ave #200, Palo Alto, CA 94301, USA.)\n",
      "Contractor-Contractee(Span(\"Solarcity Corp. (\", sentence=7, chars=[86,102], words=[20,22]), Span(\"The Hive Inc.\", sentence=7, chars=[171,183], words=[38,40]))\n",
      "\n",
      "Sentence(Document b5dfde83-dde0-4235-b749-4c2aaf8abd06,3,THIS PURCHASE AND SALE AGREEMENT is entered into this  11 Feb,  2050, \n",
      "by and between Solarcity Corp. (hereinafter Buyer), 391 Foster City Blvd, Foster City, CA 94404 and The Hive Inc. (hereinafter Company), 720 University Ave #200, Palo Alto, CA 94301, USA.)\n",
      "Contractor-Contractee(Span(\"Foster City Blvd\", sentence=7, chars=[127,142], words=[28,30]), Span(\"University Ave\", sentence=7, chars=[212,225], words=[47,48]))\n",
      "\n",
      "Sentence(Document b5dfde83-dde0-4235-b749-4c2aaf8abd06,3,THIS PURCHASE AND SALE AGREEMENT is entered into this  11 Feb,  2050, \n",
      "by and between Solarcity Corp. (hereinafter Buyer), 391 Foster City Blvd, Foster City, CA 94404 and The Hive Inc. (hereinafter Company), 720 University Ave #200, Palo Alto, CA 94301, USA.)\n",
      "Contractor-Contractee(Span(\"Foster City Blvd\", sentence=7, chars=[127,142], words=[28,30]), Span(\"The Hive Inc.\", sentence=7, chars=[171,183], words=[38,40]))\n",
      "\n",
      "Sentence(Document b5dfde83-dde0-4235-b749-4c2aaf8abd06,2,THIS PURCHASE AND SALE AGREEMENT is entered into this  23rd, March,  2000, \n",
      "by and between Google Inc (hereinafter Buyer), 1545 Charleston Rd, Mountain View, CA 94043, and Cisco Systems, Inc. (hereinafter Company), 3571 N 1st St, San Jose, CA 95134, USA, and here is it. \n",
      ")\n",
      "Contractor-Contractee(Span(\"Google Inc\", sentence=6, chars=[91,100], words=[21,22]), Span(\"Cisco Systems\", sentence=6, chars=[172,184], words=[39,40]))\n",
      "\n",
      "Sentence(Document b5dfde83-dde0-4235-b749-4c2aaf8abd06,1,This Independent Contractor Agreement (\"Agreement\") is made and entered into by and between, Cisco System (\"Contractor\") and Microsoft Corp (“Client”).\n",
      "\n",
      ")\n",
      "Contractor-Contractee(Span(\"Cisco System\", sentence=5, chars=[93,104], words=[18,19]), Span(\"Microsoft Corp\", sentence=5, chars=[125,138], words=[26,27]))\n",
      "\n"
     ]
    }
   ],
   "source": [
    "# Test the second labeling function: LF_agreement\n",
    "labeled = []\n",
    "for c in session.query(rel_contract).filter(rel_contract.split == 0).all():\n",
    "    if LF_agreement(c) != 0:\n",
    "        labeled.append(c)\n",
    "print(\"Number labeled:\", len(labeled))\n",
    "for i in range(len(labeled)):\n",
    "    print labeled[i].get_parent()\n",
    "    print labeled[i]\n",
    "    print\n",
    "\n",
    "\n"
   ]
  },
  {
   "cell_type": "code",
   "execution_count": 36,
   "metadata": {},
   "outputs": [
    {
     "name": "stdout",
     "output_type": "stream",
     "text": [
      "Clearing existing...\n",
      "Running UDF...\n",
      "[========================================] 100%\n",
      "\n",
      "Sentence(Document b5dfde83-dde0-4235-b749-4c2aaf8abd06,3,THIS PURCHASE AND SALE AGREEMENT is entered into this  11 Feb,  2050, \n",
      "by and between Solarcity Corp. (hereinafter Buyer), 391 Foster City Blvd, Foster City, CA 94404 and The Hive Inc. (hereinafter Company), 720 University Ave #200, Palo Alto, CA 94301, USA.)\n",
      "Solarcity Corp. (   Foster City Blvd\n",
      "[Label (LF_agreement = 1)]\n",
      "\n",
      "Sentence(Document b5dfde83-dde0-4235-b749-4c2aaf8abd06,3,THIS PURCHASE AND SALE AGREEMENT is entered into this  11 Feb,  2050, \n",
      "by and between Solarcity Corp. (hereinafter Buyer), 391 Foster City Blvd, Foster City, CA 94404 and The Hive Inc. (hereinafter Company), 720 University Ave #200, Palo Alto, CA 94301, USA.)\n",
      "Solarcity Corp. (   University Ave\n",
      "[Label (LF_between_and = 1), Label (LF_agreement = 1)]\n",
      "\n",
      "Sentence(Document b5dfde83-dde0-4235-b749-4c2aaf8abd06,3,THIS PURCHASE AND SALE AGREEMENT is entered into this  11 Feb,  2050, \n",
      "by and between Solarcity Corp. (hereinafter Buyer), 391 Foster City Blvd, Foster City, CA 94404 and The Hive Inc. (hereinafter Company), 720 University Ave #200, Palo Alto, CA 94301, USA.)\n",
      "Solarcity Corp. (   The Hive Inc.\n",
      "[Label (LF_between_and = 1), Label (LF_agreement = 1)]\n",
      "\n",
      "Sentence(Document b5dfde83-dde0-4235-b749-4c2aaf8abd06,3,THIS PURCHASE AND SALE AGREEMENT is entered into this  11 Feb,  2050, \n",
      "by and between Solarcity Corp. (hereinafter Buyer), 391 Foster City Blvd, Foster City, CA 94404 and The Hive Inc. (hereinafter Company), 720 University Ave #200, Palo Alto, CA 94301, USA.)\n",
      "Foster City Blvd   University Ave\n",
      "[Label (LF_agreement = 1)]\n",
      "\n",
      "Sentence(Document b5dfde83-dde0-4235-b749-4c2aaf8abd06,3,THIS PURCHASE AND SALE AGREEMENT is entered into this  11 Feb,  2050, \n",
      "by and between Solarcity Corp. (hereinafter Buyer), 391 Foster City Blvd, Foster City, CA 94404 and The Hive Inc. (hereinafter Company), 720 University Ave #200, Palo Alto, CA 94301, USA.)\n",
      "Foster City Blvd   The Hive Inc.\n",
      "[Label (LF_agreement = 1)]\n",
      "\n"
     ]
    },
    {
     "data": {
      "text/html": [
       "<div>\n",
       "<style>\n",
       "    .dataframe thead tr:only-child th {\n",
       "        text-align: right;\n",
       "    }\n",
       "\n",
       "    .dataframe thead th {\n",
       "        text-align: left;\n",
       "    }\n",
       "\n",
       "    .dataframe tbody tr th {\n",
       "        vertical-align: top;\n",
       "    }\n",
       "</style>\n",
       "<table border=\"1\" class=\"dataframe\">\n",
       "  <thead>\n",
       "    <tr style=\"text-align: right;\">\n",
       "      <th></th>\n",
       "      <th>j</th>\n",
       "      <th>Coverage</th>\n",
       "      <th>Overlaps</th>\n",
       "      <th>Conflicts</th>\n",
       "    </tr>\n",
       "  </thead>\n",
       "  <tbody>\n",
       "    <tr>\n",
       "      <th>LF_between_and</th>\n",
       "      <td>0</td>\n",
       "      <td>0.500</td>\n",
       "      <td>0.5</td>\n",
       "      <td>0.0</td>\n",
       "    </tr>\n",
       "    <tr>\n",
       "      <th>LF_agreement</th>\n",
       "      <td>1</td>\n",
       "      <td>0.875</td>\n",
       "      <td>0.5</td>\n",
       "      <td>0.0</td>\n",
       "    </tr>\n",
       "  </tbody>\n",
       "</table>\n",
       "</div>"
      ],
      "text/plain": [
       "                j  Coverage  Overlaps  Conflicts\n",
       "LF_between_and  0     0.500       0.5        0.0\n",
       "LF_agreement    1     0.875       0.5        0.0"
      ]
     },
     "execution_count": 36,
     "metadata": {},
     "output_type": "execute_result"
    }
   ],
   "source": [
    "LFs = [LF_between_and, LF_agreement]\n",
    "\n",
    "# Apply the labelling functions\n",
    "from snorkel.annotations import LabelAnnotator\n",
    "import numpy as np\n",
    "labeler = LabelAnnotator(lfs=LFs)\n",
    "\n",
    "np.random.seed(1701)\n",
    "L_train = labeler.apply(split=0)\n",
    "# L_train is essentially the sparse matrix\n",
    "# check the labeling results\n",
    "\n",
    "for i in range(5):\n",
    "    #print L_train.get_candidate(session, i)\n",
    "    print L_train.get_candidate(session, i).get_parent()\n",
    "    print L_train.get_candidate(session, i).org1.get_span(), \" \", L_train.get_candidate(session, i).org2.get_span() \n",
    "    print L_train.get_candidate(session, i).labels\n",
    "    print \n",
    "L_train.lf_stats(session)"
   ]
  },
  {
   "cell_type": "code",
   "execution_count": null,
   "metadata": {
    "collapsed": true
   },
   "outputs": [],
   "source": []
  },
  {
   "cell_type": "code",
   "execution_count": 37,
   "metadata": {},
   "outputs": [
    {
     "name": "stdout",
     "output_type": "stream",
     "text": [
      "Launching BRAT server at http://localhost:8001 [pid=90243]...\n"
     ]
    },
    {
     "name": "stderr",
     "output_type": "stream",
     "text": [
      "Error! Collection at 'contract/train' already exists. Please set overwrite=True to erase all existing annotations.\n"
     ]
    },
    {
     "data": {
      "text/html": [
       "<a href='http://localhost:8001/index.xhtml#/contract/train/' target='_blank'>Launch BRAT</a>"
      ],
      "text/plain": [
       "<IPython.core.display.HTML object>"
      ]
     },
     "metadata": {},
     "output_type": "display_data"
    }
   ],
   "source": [
    "# Launch Brat\n",
    "from snorkel.contrib.brat import BratAnnotator\n",
    "\n",
    "brat = BratAnnotator(session, rel_contract, encoding='utf-8', annotator_name='brat')\n",
    "\n",
    "# Initilize the brat program\n",
    "# the brat would copy the training data (split = 0) frrom the sqlite server \n",
    "# to the folder \"snorkel/snorkel/snorkel/contrib/brat/brat-v1.3_Crunchy_Frog/data/contract/train\"\n",
    "brat.init_collection(\"contract/train\", split=0, overwrite=False)\n",
    "\n",
    "brat.view(\"contract/train\")"
   ]
  },
  {
   "cell_type": "code",
   "execution_count": 38,
   "metadata": {},
   "outputs": [
    {
     "name": "stdout",
     "output_type": "stream",
     "text": [
      "Contractor-Contractee(Span(\"Solarcity Corp. (\", sentence=7, chars=[86,102], words=[20,22]), Span(\"Foster City Blvd\", sentence=7, chars=[127,142], words=[28,30]))\n",
      "Solarcity Corp. ( -- Foster City Blvd\n",
      "[Label (LF_agreement = 1)]\n",
      "-------------\n",
      "Contractor-Contractee(Span(\"Solarcity Corp. (\", sentence=7, chars=[86,102], words=[20,22]), Span(\"University Ave\", sentence=7, chars=[212,225], words=[47,48]))\n",
      "Solarcity Corp. ( -- University Ave\n",
      "[Label (LF_between_and = 1), Label (LF_agreement = 1)]\n",
      "-------------\n",
      "Contractor-Contractee(Span(\"Solarcity Corp. (\", sentence=7, chars=[86,102], words=[20,22]), Span(\"The Hive Inc.\", sentence=7, chars=[171,183], words=[38,40]))\n",
      "Solarcity Corp. ( -- The Hive Inc.\n",
      "[Label (LF_between_and = 1), Label (LF_agreement = 1)]\n",
      "-------------\n",
      "Contractor-Contractee(Span(\"Foster City Blvd\", sentence=7, chars=[127,142], words=[28,30]), Span(\"University Ave\", sentence=7, chars=[212,225], words=[47,48]))\n",
      "Foster City Blvd -- University Ave\n",
      "[Label (LF_agreement = 1)]\n",
      "-------------\n",
      "Contractor-Contractee(Span(\"Foster City Blvd\", sentence=7, chars=[127,142], words=[28,30]), Span(\"The Hive Inc.\", sentence=7, chars=[171,183], words=[38,40]))\n",
      "Foster City Blvd -- The Hive Inc.\n",
      "[Label (LF_agreement = 1)]\n",
      "-------------\n",
      "Contractor-Contractee(Span(\"The Hive Inc.\", sentence=7, chars=[171,183], words=[38,40]), Span(\"University Ave\", sentence=7, chars=[212,225], words=[47,48]))\n",
      "The Hive Inc. -- University Ave\n",
      "[]\n",
      "-------------\n",
      "Contractor-Contractee(Span(\"Google Inc\", sentence=6, chars=[91,100], words=[21,22]), Span(\"Cisco Systems\", sentence=6, chars=[172,184], words=[39,40]))\n",
      "Google Inc -- Cisco Systems\n",
      "[Label (LF_between_and = 1), Label (LF_agreement = 1)]\n",
      "-------------\n",
      "Contractor-Contractee(Span(\"Cisco System\", sentence=5, chars=[93,104], words=[18,19]), Span(\"Microsoft Corp\", sentence=5, chars=[125,138], words=[26,27]))\n",
      "Cisco System -- Microsoft Corp\n",
      "[Label (LF_between_and = 1), Label (LF_agreement = 1)]\n",
      "-------------\n"
     ]
    }
   ],
   "source": [
    "#load all the candidates and labeling results from the server\n",
    "# the candiates are labeled \n",
    "train_cands = session.query(rel_contract).filter(rel_contract.split == 0).order_by(rel_contract.id).all()\n",
    "for c in train_cands:\n",
    "    print c\n",
    "    print c.org1.get_span(), \"--\", c.org2.get_span()\n",
    "    print c.labels\n",
    "    print '-------------'"
   ]
  },
  {
   "cell_type": "code",
   "execution_count": null,
   "metadata": {
    "collapsed": true
   },
   "outputs": [],
   "source": []
  },
  {
   "cell_type": "code",
   "execution_count": 39,
   "metadata": {},
   "outputs": [
    {
     "name": "stdout",
     "output_type": "stream",
     "text": [
      "documents\n",
      "{u'b5dfde83-dde0-4235-b749-4c2aaf8abd06': Document b5dfde83-dde0-4235-b749-4c2aaf8abd06}\n",
      "\n",
      "annotations\n",
      "{'b5dfde83-dde0-4235-b749-4c2aaf8abd06': {u'R1': (u'Contractor-Contractee', u'T1', u'T2'), u'R2': (u'Contractor-Contractee', u'T4', u'T3'), u'R3': (u'Contractor-Contractee', u'T5', u'T6'), u'T6': {'mention': u'The Hive Inc.', 'abs_char_start': 780, 'abs_char_end': 793, 'entity_type': u'Org'}, u'T4': {'mention': u'Google Inc', 'abs_char_start': 429, 'abs_char_end': 439, 'entity_type': u'Org'}, u'T5': {'mention': u'Solarcity Corp.', 'abs_char_start': 695, 'abs_char_end': 710, 'entity_type': u'Org'}, u'T2': {'mention': u'Microsoft Corp', 'abs_char_start': 311, 'abs_char_end': 325, 'entity_type': u'Org'}, u'T3': {'mention': u'Cisco Systems, Inc.', 'abs_char_start': 510, 'abs_char_end': 529, 'entity_type': u'Org'}, u'T1': {'mention': u'Cisco System', 'abs_char_start': 279, 'abs_char_end': 291, 'entity_type': u'Org'}}}\n",
      "Annotations\n",
      "R1 (u'Contractor-Contractee', u'T1', u'T2')\n",
      "R2 (u'Contractor-Contractee', u'T4', u'T3')\n",
      "R3 (u'Contractor-Contractee', u'T5', u'T6')\n",
      "T6 {'mention': u'The Hive Inc.', 'abs_char_start': 780, 'abs_char_end': 793, 'entity_type': u'Org'}\n",
      "T4 {'mention': u'Google Inc', 'abs_char_start': 429, 'abs_char_end': 439, 'entity_type': u'Org'}\n",
      "T5 {'mention': u'Solarcity Corp.', 'abs_char_start': 695, 'abs_char_end': 710, 'entity_type': u'Org'}\n",
      "T2 {'mention': u'Microsoft Corp', 'abs_char_start': 311, 'abs_char_end': 325, 'entity_type': u'Org'}\n",
      "T3 {'mention': u'Cisco Systems, Inc.', 'abs_char_start': 510, 'abs_char_end': 529, 'entity_type': u'Org'}\n",
      "T1 {'mention': u'Cisco System', 'abs_char_start': 279, 'abs_char_end': 291, 'entity_type': u'Org'}\n",
      "abs_char_start: 780\n",
      "abs_char_end: 793\n",
      "sent abs char offset: [0, 186, 339, 611]\n",
      "sent_id 3\n",
      "char_start: 169\n",
      "char_end: 182\n",
      "abs_char_start: 429\n",
      "abs_char_end: 439\n",
      "sent abs char offset: [0, 186, 339, 611]\n",
      "sent_id 2\n",
      "char_start: 90\n",
      "char_end: 100\n",
      "abs_char_start: 695\n",
      "abs_char_end: 710\n",
      "sent abs char offset: [0, 186, 339, 611]\n",
      "sent_id 3\n",
      "char_start: 84\n",
      "char_end: 99\n",
      "abs_char_start: 311\n",
      "abs_char_end: 325\n",
      "sent abs char offset: [0, 186, 339, 611]\n",
      "sent_id 1\n",
      "char_start: 125\n",
      "char_end: 139\n",
      "abs_char_start: 510\n",
      "abs_char_end: 529\n",
      "sent abs char offset: [0, 186, 339, 611]\n",
      "sent_id 2\n",
      "char_start: 171\n",
      "char_end: 190\n",
      "abs_char_start: 279\n",
      "abs_char_end: 291\n",
      "sent abs char offset: [0, 186, 339, 611]\n",
      "sent_id 1\n",
      "char_start: 93\n",
      "char_end: 105\n",
      "spans\n",
      "{u'T6': TemporarySpan(\"d The Hive In\", sentence=7, chars=[169,181], words=[37,40]), u'T4': TemporarySpan(\" Google In\", sentence=6, chars=[90,99], words=[20,22]), u'T5': TemporarySpan(\"n Solarcity Cor\", sentence=7, chars=[84,98], words=[19,21]), u'T2': TemporarySpan(\"Microsoft Corp\", sentence=5, chars=[125,138], words=[26,27]), u'T3': TemporarySpan(\" Cisco Systems, Inc\", sentence=6, chars=[171,189], words=[38,42]), u'T1': TemporarySpan(\"Cisco System\", sentence=5, chars=[93,104], words=[18,19])}\n",
      "  (7, 0)\t1\n"
     ]
    },
    {
     "name": "stderr",
     "output_type": "stream",
     "text": [
      "Warning: b5dfde83-dde0-4235-b749-4c2aaf8abd06 Span annotations do not match BRAT:[The Hive Inc.]!=SNORKEL:[d The Hive In] [780:793]\n",
      "Warning: b5dfde83-dde0-4235-b749-4c2aaf8abd06 Span annotations do not match BRAT:[Google Inc]!=SNORKEL:[ Google In] [429:439]\n",
      "Warning: b5dfde83-dde0-4235-b749-4c2aaf8abd06 Span annotations do not match BRAT:[Solarcity Corp.]!=SNORKEL:[n Solarcity Cor] [695:710]\n",
      "Warning: b5dfde83-dde0-4235-b749-4c2aaf8abd06 Span annotations do not match BRAT:[Cisco Systems, Inc.]!=SNORKEL:[ Cisco Systems, Inc] [510:529]\n",
      "Mapped 1/3 (33%) of BRAT labels to candidates\n"
     ]
    }
   ],
   "source": [
    "# import the gold labels from the brat files \n",
    "# match the relationship stored in the brat folder \"contract/train\" \n",
    "# with the training candidates in the current databse\n",
    "# Note that the candidates exsit in \"contract/train\" but not exisit in the \"train_cands\"\n",
    "# will not be imported to the databse\n",
    "# \n",
    "brat.import_gold_labels(session, \"contract/train\", train_cands)\n",
    "\n",
    "\n",
    "# Now we can load the brat_labels from the current database(session)\n",
    "# Note that the annotator_name='brat' becasue when we we initilize the BratAnnotator\n",
    "# the default annotator name will be 'brat'\n",
    "from snorkel.annotations import load_gold_labels\n",
    "L_gold_train = load_gold_labels(session, annotator_name='brat', split=0)\n",
    "print L_gold_train\n",
    "\n",
    "\n"
   ]
  },
  {
   "cell_type": "code",
   "execution_count": 148,
   "metadata": {},
   "outputs": [
    {
     "name": "stdout",
     "output_type": "stream",
     "text": [
      "Inferred cardinality: 2\n"
     ]
    }
   ],
   "source": [
    "# Fit the generative model\n",
    "from snorkel.learning import GenerativeModel\n",
    "\n",
    "gen_model = GenerativeModel()\n",
    "gen_model.train(L_train, epochs=1000, decay=0.95, step_size=0.01 / L_train.shape[0], reg_param=1e-6)"
   ]
  },
  {
   "cell_type": "code",
   "execution_count": 149,
   "metadata": {},
   "outputs": [
    {
     "name": "stdout",
     "output_type": "stream",
     "text": [
      "========================================\n",
      "Scores (Un-adjusted)\n",
      "========================================\n",
      "Pos. class accuracy: 1.0\n",
      "Neg. class accuracy: 0.0\n",
      "Precision            1.0\n",
      "Recall               1.0\n",
      "F1                   1.0\n",
      "----------------------------------------\n",
      "TP: 1 | FP: 0 | TN: 0 | FN: 0\n",
      "========================================\n",
      "\n",
      "[ 0.98803756]\n"
     ]
    }
   ],
   "source": [
    "# error analysis of the generative model\n",
    "tp, fp, tn, fn = gen_model.error_analysis(session, L_train, L_gold_train)\n",
    "\n",
    "# generate the noisy-aware lables (marginals) for the training data\n",
    "train_marginals = gen_model.marginals(L_train)\n",
    "print train_marginals"
   ]
  },
  {
   "cell_type": "code",
   "execution_count": 150,
   "metadata": {},
   "outputs": [
    {
     "data": {
      "text/html": [
       "<div>\n",
       "<style>\n",
       "    .dataframe thead tr:only-child th {\n",
       "        text-align: right;\n",
       "    }\n",
       "\n",
       "    .dataframe thead th {\n",
       "        text-align: left;\n",
       "    }\n",
       "\n",
       "    .dataframe tbody tr th {\n",
       "        vertical-align: top;\n",
       "    }\n",
       "</style>\n",
       "<table border=\"1\" class=\"dataframe\">\n",
       "  <thead>\n",
       "    <tr style=\"text-align: right;\">\n",
       "      <th></th>\n",
       "      <th>Accuracy</th>\n",
       "      <th>Coverage</th>\n",
       "      <th>Precision</th>\n",
       "      <th>Recall</th>\n",
       "    </tr>\n",
       "  </thead>\n",
       "  <tbody>\n",
       "    <tr>\n",
       "      <th>0</th>\n",
       "      <td>0.904649</td>\n",
       "      <td>0.7614</td>\n",
       "      <td>0.897992</td>\n",
       "      <td>0.692057</td>\n",
       "    </tr>\n",
       "    <tr>\n",
       "      <th>1</th>\n",
       "      <td>0.903163</td>\n",
       "      <td>0.7683</td>\n",
       "      <td>0.896807</td>\n",
       "      <td>0.692057</td>\n",
       "    </tr>\n",
       "  </tbody>\n",
       "</table>\n",
       "</div>"
      ],
      "text/plain": [
       "   Accuracy  Coverage  Precision    Recall\n",
       "0  0.904649    0.7614   0.897992  0.692057\n",
       "1  0.903163    0.7683   0.896807  0.692057"
      ]
     },
     "execution_count": 150,
     "metadata": {},
     "output_type": "execute_result"
    }
   ],
   "source": [
    "# the coverage of the generative model for the LFs\n",
    "gen_model.learned_lf_stats()"
   ]
  },
  {
   "cell_type": "code",
   "execution_count": 151,
   "metadata": {},
   "outputs": [
    {
     "name": "stdout",
     "output_type": "stream",
     "text": [
      "Removed existing collection at 'contract/dev'\n"
     ]
    },
    {
     "data": {
      "text/html": [
       "<a href='http://localhost:8001/index.xhtml#/contract/dev/' target='_blank'>Launch BRAT</a>"
      ],
      "text/plain": [
       "<IPython.core.display.HTML object>"
      ]
     },
     "metadata": {},
     "output_type": "display_data"
    }
   ],
   "source": [
    "# label dev data using brat\n",
    "brat.init_collection(\"contract/dev\", split=1, overwrite=False)\n",
    "brat.view(\"contract/dev\")"
   ]
  },
  {
   "cell_type": "code",
   "execution_count": 152,
   "metadata": {},
   "outputs": [
    {
     "name": "stdout",
     "output_type": "stream",
     "text": [
      "  (10, 0)\t1\n"
     ]
    },
    {
     "name": "stderr",
     "output_type": "stream",
     "text": [
      "Mapped 1/2 (50%) of BRAT labels to candidates\n"
     ]
    }
   ],
   "source": [
    "# load up the gold labels for dev data\n",
    "dev_cands = session.query(rel_contract).filter(rel_contract.split == 1).order_by(rel_contract.id).all()\n",
    "brat.import_gold_labels(session, \"contract/dev\", dev_cands)\n",
    "L_gold_dev = load_gold_labels(session, annotator_name='brat', split=1)\n",
    "print L_gold_dev\n",
    "\n"
   ]
  },
  {
   "cell_type": "code",
   "execution_count": 153,
   "metadata": {},
   "outputs": [
    {
     "name": "stdout",
     "output_type": "stream",
     "text": [
      "[reRNN] Training model\n",
      "[reRNN] n_train=1  #epochs=20  batch size=1\n",
      "[reRNN] Epoch 0 (0.19s)\tAverage loss=0.683148\tDev F1=15.38\n",
      "[reRNN] Epoch 1 (0.35s)\tAverage loss=0.556879\tDev F1=15.38\n",
      "[reRNN] Epoch 2 (0.48s)\tAverage loss=0.345231\tDev F1=15.38\n",
      "[reRNN] Epoch 3 (0.61s)\tAverage loss=0.114474\tDev F1=15.38\n",
      "[reRNN] Epoch 4 (0.75s)\tAverage loss=0.070313\tDev F1=15.38\n",
      "[reRNN] Epoch 5 (0.89s)\tAverage loss=0.064883\tDev F1=15.38\n",
      "[reRNN] Epoch 6 (1.03s)\tAverage loss=0.068160\tDev F1=15.38\n",
      "[reRNN] Epoch 7 (1.15s)\tAverage loss=0.072885\tDev F1=15.38\n",
      "[reRNN] Epoch 8 (1.29s)\tAverage loss=0.076909\tDev F1=15.38\n",
      "[reRNN] Epoch 9 (1.42s)\tAverage loss=0.079757\tDev F1=15.38\n",
      "[reRNN] Epoch 10 (1.55s)\tAverage loss=0.081409\tDev F1=15.38\n",
      "[reRNN] Epoch 11 (1.67s)\tAverage loss=0.081975\tDev F1=15.38\n",
      "[reRNN] Epoch 12 (1.81s)\tAverage loss=0.081606\tDev F1=15.38\n",
      "[reRNN] Epoch 13 (1.94s)\tAverage loss=0.080466\tDev F1=15.38\n",
      "[reRNN] Epoch 14 (2.08s)\tAverage loss=0.078715\tDev F1=15.38\n",
      "[reRNN] Epoch 15 (2.20s)\tAverage loss=0.076510\tDev F1=15.38\n",
      "[reRNN] Epoch 16 (2.34s)\tAverage loss=0.074022\tDev F1=15.38\n",
      "[reRNN] Model saved as <reRNN>\n",
      "[reRNN] Epoch 17 (4.16s)\tAverage loss=0.071446\tDev F1=15.38\n",
      "[reRNN] Epoch 18 (4.39s)\tAverage loss=0.069002\tDev F1=15.38\n",
      "[reRNN] Epoch 19 (4.53s)\tAverage loss=0.066937\tDev F1=15.38\n",
      "[reRNN] Training done (4.55s)\n",
      "INFO:tensorflow:Restoring parameters from checkpoints/reRNN/reRNN-16\n",
      "[reRNN] Loaded model <reRNN>\n"
     ]
    }
   ],
   "source": [
    "# Training an LSTM model\n",
    "# Carefule that the no. of relationships in dev dataset must >=2\n",
    "from snorkel.learning.disc_models.rnn import reRNN\n",
    "\n",
    "train_kwargs = {\n",
    "    'lr':         0.01,\n",
    "    'dim':        50,\n",
    "    'n_epochs':   20,\n",
    "    'dropout':    0.25,\n",
    "    'print_freq': 1,\n",
    "    'max_sentence_length': 100\n",
    "}\n",
    "\n",
    "lstm = reRNN(seed=1701, n_threads=None)\n",
    "lstm.train(train_cands, train_marginals, X_dev=dev_cands, Y_dev=L_gold_dev, **train_kwargs)"
   ]
  },
  {
   "cell_type": "code",
   "execution_count": 154,
   "metadata": {},
   "outputs": [
    {
     "name": "stdout",
     "output_type": "stream",
     "text": [
      "Prec: 0.083, Recall: 1.000, F1 Score: 0.154\n"
     ]
    }
   ],
   "source": [
    "# The accuracy of the lstm for the dev data\n",
    "p, r, f1 = lstm.score(dev_cands, L_gold_dev)\n",
    "print(\"Prec: {0:.3f}, Recall: {1:.3f}, F1 Score: {2:.3f}\".format(p, r, f1))"
   ]
  },
  {
   "cell_type": "code",
   "execution_count": 155,
   "metadata": {},
   "outputs": [
    {
     "name": "stdout",
     "output_type": "stream",
     "text": [
      "Clearing existing...\n",
      "Running UDF...\n",
      "[========================================] 100%\n",
      "\n",
      "Sentence(Document b745346e-16a3-46ba-8adc-92b1fa085c38,0,THIS PURCHASE AND SALE AGREEMENT is entered into this  23rd Feb,  2017, \n",
      "by and between Microsoft Corporation (hereinafter Buyer), 600 North Wolfe Street, Baltimore, Maryland, 21287,\n",
      "and Cisco Systems, Inc. (hereinafter Company), 3700 Momentum St, San Jose, CA 95134-2206, USA, and here is it. \n",
      ")\n",
      "Microsoft Corporation   Buyer\n",
      "[Label (LF_agreement = 1)]\n",
      "0.898426912628\n",
      "0.991041\n",
      "\n",
      "Sentence(Document b745346e-16a3-46ba-8adc-92b1fa085c38,0,THIS PURCHASE AND SALE AGREEMENT is entered into this  23rd Feb,  2017, \n",
      "by and between Microsoft Corporation (hereinafter Buyer), 600 North Wolfe Street, Baltimore, Maryland, 21287,\n",
      "and Cisco Systems, Inc. (hereinafter Company), 3700 Momentum St, San Jose, CA 95134-2206, USA, and here is it. \n",
      ")\n",
      "Microsoft Corporation   North Wolfe Street\n",
      "[Label (LF_agreement = 1)]\n",
      "0.898426912628\n",
      "0.991041\n",
      "\n",
      "Sentence(Document b745346e-16a3-46ba-8adc-92b1fa085c38,0,THIS PURCHASE AND SALE AGREEMENT is entered into this  23rd Feb,  2017, \n",
      "by and between Microsoft Corporation (hereinafter Buyer), 600 North Wolfe Street, Baltimore, Maryland, 21287,\n",
      "and Cisco Systems, Inc. (hereinafter Company), 3700 Momentum St, San Jose, CA 95134-2206, USA, and here is it. \n",
      ")\n",
      "Microsoft Corporation   Cisco Systems\n",
      "[Label (LF_between_and = 1), Label (LF_agreement = 1)]\n",
      "0.988037559435\n",
      "0.991041\n",
      "\n",
      "Sentence(Document b745346e-16a3-46ba-8adc-92b1fa085c38,0,THIS PURCHASE AND SALE AGREEMENT is entered into this  23rd Feb,  2017, \n",
      "by and between Microsoft Corporation (hereinafter Buyer), 600 North Wolfe Street, Baltimore, Maryland, 21287,\n",
      "and Cisco Systems, Inc. (hereinafter Company), 3700 Momentum St, San Jose, CA 95134-2206, USA, and here is it. \n",
      ")\n",
      "Buyer   North Wolfe Street\n",
      "[Label (LF_agreement = 1)]\n",
      "0.898426912628\n",
      "0.991041\n",
      "\n",
      "Sentence(Document b745346e-16a3-46ba-8adc-92b1fa085c38,0,THIS PURCHASE AND SALE AGREEMENT is entered into this  23rd Feb,  2017, \n",
      "by and between Microsoft Corporation (hereinafter Buyer), 600 North Wolfe Street, Baltimore, Maryland, 21287,\n",
      "and Cisco Systems, Inc. (hereinafter Company), 3700 Momentum St, San Jose, CA 95134-2206, USA, and here is it. \n",
      ")\n",
      "Buyer   Cisco Systems\n",
      "[Label (LF_agreement = 1)]\n",
      "0.898426912628\n",
      "0.991041\n",
      "\n",
      "Sentence(Document b745346e-16a3-46ba-8adc-92b1fa085c38,0,THIS PURCHASE AND SALE AGREEMENT is entered into this  23rd Feb,  2017, \n",
      "by and between Microsoft Corporation (hereinafter Buyer), 600 North Wolfe Street, Baltimore, Maryland, 21287,\n",
      "and Cisco Systems, Inc. (hereinafter Company), 3700 Momentum St, San Jose, CA 95134-2206, USA, and here is it. \n",
      ")\n",
      "North Wolfe Street   Cisco Systems\n",
      "[]\n",
      "0.5\n",
      "0.991041\n",
      "\n",
      "Sentence(Document b745346e-16a3-46ba-8adc-92b1fa085c38,3,THIS PURCHASE AND SALE AGREEMENT is entered into this  11 Feb,  2020, \n",
      "by and between Starbucks Corp (hereinafter Buyer), 600 North Wolfe Street, Baltimore, Maryland, 21287,and The Hive Inc. (hereinafter Company), 3700 Momentum St, San Jose, CA 95134-2206, USA.)\n",
      "North Wolfe Street   The Hive Inc.\n",
      "[]\n",
      "0.5\n",
      "0.996624\n",
      "\n",
      "Sentence(Document b745346e-16a3-46ba-8adc-92b1fa085c38,3,THIS PURCHASE AND SALE AGREEMENT is entered into this  11 Feb,  2020, \n",
      "by and between Starbucks Corp (hereinafter Buyer), 600 North Wolfe Street, Baltimore, Maryland, 21287,and The Hive Inc. (hereinafter Company), 3700 Momentum St, San Jose, CA 95134-2206, USA.)\n",
      "North Wolfe Street   CA 95134-2206\n",
      "[]\n",
      "0.5\n",
      "0.996624\n",
      "\n"
     ]
    }
   ],
   "source": [
    "L_dev = labeler.apply_existing(split=1)\n",
    "dev_marginals = gen_model.marginals(L_dev) \n",
    "lstm_dev_marginals = lstm.marginals(dev_cands)\n",
    "for i in range(8):\n",
    "    print L_dev.get_candidate(session, i).get_parent() # sentence\n",
    "    print L_dev.get_candidate(session, i).org1.get_span(), \" \", L_dev.get_candidate(session, i).org2.get_span() # candidate\n",
    "    print L_dev.get_candidate(session, i).labels # labels by LFs\n",
    "    print dev_marginals[i] # labels by generative models\n",
    "    print lstm_dev_marginals[i]\n",
    "    print \n",
    "\n"
   ]
  },
  {
   "cell_type": "code",
   "execution_count": 57,
   "metadata": {},
   "outputs": [
    {
     "name": "stdout",
     "output_type": "stream",
     "text": [
      "Removed existing collection at 'contract/test'\n"
     ]
    },
    {
     "data": {
      "text/html": [
       "<a href='http://localhost:8001/index.xhtml#/contract/test/' target='_blank'>Launch BRAT</a>"
      ],
      "text/plain": [
       "<IPython.core.display.HTML object>"
      ]
     },
     "metadata": {},
     "output_type": "display_data"
    }
   ],
   "source": [
    "# finish the labeling of  test data\n",
    "brat.init_collection(\"contract/test\", split=2, overwrite=False)\n",
    "brat.view(\"contract/test\")"
   ]
  },
  {
   "cell_type": "code",
   "execution_count": null,
   "metadata": {
    "collapsed": true
   },
   "outputs": [],
   "source": []
  },
  {
   "cell_type": "code",
   "execution_count": 125,
   "metadata": {},
   "outputs": [
    {
     "name": "stdout",
     "output_type": "stream",
     "text": [
      "[Contractor-Contractee(Span(\"SmartPhone Services\", sentence=10, chars=[0,18], words=[0,1]), Span(\"Darshi Inc.\", sentence=10, chars=[24,34], words=[3,4]))]\n",
      "  (0, 0)\t1\n"
     ]
    },
    {
     "name": "stderr",
     "output_type": "stream",
     "text": [
      "Mapped 1/1 (100%) of BRAT labels to candidates\n"
     ]
    }
   ],
   "source": [
    "# load up the gold labels for test data\n",
    "test_cands = session.query(rel_contract).filter(rel_contract.split == 2).order_by(rel_contract.id).all()\n",
    "print test_cands\n",
    "brat.import_gold_labels(session, \"contract/test\", test_cands)\n",
    "L_gold_test = load_gold_labels(session, annotator_name='brat', split=2)\n",
    "print L_gold_test"
   ]
  },
  {
   "cell_type": "code",
   "execution_count": 127,
   "metadata": {},
   "outputs": [
    {
     "name": "stdout",
     "output_type": "stream",
     "text": [
      "Clearing existing...\n",
      "Running UDF...\n",
      "[========================================] 100%\n",
      "\n",
      "Sentence(Document c5dbaa73-8076-4385-944c-1539a30152d7,0,SmartPhone Services and Darshi Inc. agree that the contract is valid.)\n",
      "Contractor-Contractee(Span(\"SmartPhone Services\", sentence=10, chars=[0,18], words=[0,1]), Span(\"Darshi Inc.\", sentence=10, chars=[24,34], words=[3,4]))\n",
      "Starbucks Corp   CA 95134-2206\n",
      "[]\n",
      "0.5\n",
      "0.99784\n",
      "\n"
     ]
    }
   ],
   "source": [
    "L_test = labeler.apply_existing(split=2)\n",
    "# output marginals of the generative model\n",
    "# It should be noted that the generative model depends on\n",
    "# the LFs and operates on the output of labeler\n",
    "\n",
    "test_marginals = gen_model.marginals(L_test) \n",
    "lstm_test_marginals = lstm.marginals(dev_cands)\n",
    "for i in range(1):\n",
    "    print L_test.get_candidate(session, i).get_parent() # sentence\n",
    "    print L_test.get_candidate(session, i) # candidate\n",
    "    print L_dev.get_candidate(session, i).org1.get_span(), \" \", L_dev.get_candidate(session, i).org2.get_span() # candidate\n",
    "    print L_test.get_candidate(session, i).labels # labels by LFs\n",
    "    print test_marginals[i] # labels by generative models\n",
    "    print lstm_test_marginals[i]\n",
    "    print "
   ]
  },
  {
   "cell_type": "code",
   "execution_count": 11,
   "metadata": {
    "collapsed": true
   },
   "outputs": [],
   "source": [
    "from snorkel.contrib.brat import BratProject\n",
    "bratProject = BratProject(session)"
   ]
  },
  {
   "cell_type": "code",
   "execution_count": 36,
   "metadata": {},
   "outputs": [
    {
     "name": "stdout",
     "output_type": "stream",
     "text": [
      "CREATED TYPE Entity(Org,[org])\n",
      "CREATED TYPE Relation(ContractorContractee,['org1', 'org2'])\n",
      "0\n",
      "Org\n",
      "1\n",
      "Contractor-Contractee\n",
      "{'org_id': 35, 'split': 0}\n",
      "Org(None)\n",
      "Org(None)\n",
      "{'org_id': 36, 'split': 0}\n",
      "Org(None)\n",
      "Org(None)\n",
      "{'org_id': 37, 'split': 0}\n",
      "Org(None)\n",
      "Org(None)\n",
      "{'org_id': 24, 'split': 0}\n",
      "Org(None)\n",
      "Org(None)\n",
      "{'org_id': 38, 'split': 0}\n",
      "Org(None)\n",
      "Org(None)\n",
      "{'org_id': 23, 'split': 0}\n",
      "Org(None)\n",
      "Org(None)\n",
      "{'org2_id': 24, 'split': 1, 'org1_id': 23}\n",
      "ContractorContractee(None, None)\n",
      "ContractorContractee(None, None)\n",
      "{'org2_id': 38, 'split': 1, 'org1_id': 36}\n",
      "ContractorContractee(None, None)\n",
      "ContractorContractee(None, None)\n",
      "{'org2_id': 35, 'split': 1, 'org1_id': 37}\n",
      "ContractorContractee(None, None)\n",
      "ContractorContractee(None, None)\n"
     ]
    }
   ],
   "source": [
    "f = r\"/Users/kunling/Dropbox/decisionengines/snorkel/snorkel/contrib/brat/brat-v1.3_Crunchy_Frog/data/contract/train\"\n",
    "bratProject.import_project(f)\n",
    "from snorkel.annotations import load_gold_labels\n",
    "L_gold_train = load_gold_labels(session, annotator_name='brat')\n",
    "#print L_gold_train"
   ]
  },
  {
   "cell_type": "code",
   "execution_count": 31,
   "metadata": {},
   "outputs": [
    {
     "name": "stdout",
     "output_type": "stream",
     "text": [
      "[Contractor-Contractee(Span(\"SmartPhone Services\", sentence=12, chars=[0,18], words=[0,1]), Span(\"Darshi Inc.\", sentence=12, chars=[24,34], words=[3,4]))]\n"
     ]
    }
   ],
   "source": [
    "from snorkel.models import Candidate, StableLabel, Document, TemporarySpan, Sentence, candidate_subclass, GoldLabel\n",
    "gold_labels = session.query(rel_contract).all()\n",
    "print gold_labels"
   ]
  },
  {
   "cell_type": "code",
   "execution_count": null,
   "metadata": {
    "collapsed": true
   },
   "outputs": [],
   "source": []
  },
  {
   "cell_type": "code",
   "execution_count": null,
   "metadata": {
    "collapsed": true
   },
   "outputs": [],
   "source": []
  }
 ],
 "metadata": {
  "kernelspec": {
   "display_name": "Python 2",
   "language": "python",
   "name": "python2"
  },
  "language_info": {
   "codemirror_mode": {
    "name": "ipython",
    "version": 2
   },
   "file_extension": ".py",
   "mimetype": "text/x-python",
   "name": "python",
   "nbconvert_exporter": "python",
   "pygments_lexer": "ipython2",
   "version": "2.7.13"
  }
 },
 "nbformat": 4,
 "nbformat_minor": 2
}
